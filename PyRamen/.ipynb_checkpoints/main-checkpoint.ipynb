{
 "cells": [
  {
   "cell_type": "code",
   "execution_count": 1,
   "id": "c5226e07-87e9-401e-9b1a-93969f598368",
   "metadata": {},
   "outputs": [],
   "source": [
    "# Import the NumPy library\n",
    "import numpy as np\n",
    "# Import the NumPy Financial library\n",
    "import numpy_financial as npf\n",
    "# Import from the pathlib library, the main class Path\n",
    "from pathlib import Path\n",
    "import pandas as pd\n",
    "import os\n",
    "import csv\n",
    "# Import statistics Library\n",
    "import statistics"
   ]
  },
  {
   "cell_type": "markdown",
   "id": "e7c93094-723c-41fe-960a-a940e572ca59",
   "metadata": {},
   "source": [
    "## Read the Data\n",
    "Complete the following:\n",
    "\n",
    "* Read in `menu_data.csv` and set its contents to a separate list object. (This way, you can cross-reference your menu data with your sales data as you read in your sales data in the coming steps.)\n",
    "\n",
    "  * Initialize an empty `menu` list object to hold the contents of `menu_data.csv`.\n",
    "\n",
    "  * Use a `with` statement and open the `menu_data.csv` by using its file path.\n",
    "\n",
    "  * Use the `reader` function from the `csv` library to begin reading `menu_data.csv`.\n",
    "\n",
    "  * Use the `next` function to skip the header (first row of the CSV).\n",
    "\n",
    "  * Loop over the rest of the rows and append every row to the `menu` list object (the outcome will be a list of lists).\n"
   ]
  },
  {
   "cell_type": "code",
   "execution_count": 2,
   "id": "5893c3d1-b0ad-401d-a28a-98851c79d76a",
   "metadata": {},
   "outputs": [],
   "source": [
    "# Check the current directory where the Python program is executing from\n",
    "#print(f\"Current Working Directory: {Path.cwd()}\")\n",
    "\n",
    "# @TODO: Set file paths for menu_data.csv and sales_data.csv\n",
    "menu_filepath = Path('./Resources/menu_data.csv')\n",
    "sales_filepath = Path('./Resources/sales_data.csv')\n",
    "\n",
    "# Initialize an empty menu list object to hold the contents of menu_data.csv.\n",
    "# @TODO: Initialize list objects to hold our menu and sales data\n",
    "menu = []\n",
    "sales = []\n"
   ]
  },
  {
   "cell_type": "code",
   "execution_count": 3,
   "id": "36f0f47c-96ab-4caa-9c08-6f7fbd15fdeb",
   "metadata": {},
   "outputs": [
    {
     "name": "stdout",
     "output_type": "stream",
     "text": [
      "[['edamame', 'appetizers', 'boiled soybeans, maldon sea salt', '4', '1'], ['house salad', 'appetizers', 'mixed greens, cherry tomatoes, cucumber, house ginger dressing', '4', '2'], ['cucumber sunomono salad', 'appetizers', 'cucumber, ponzu dressing, pickled ginger sproud, sesame seeds', '5', '2'], ['hiyashi wakame seaweed salad', 'appetizers', 'sweet soy-marinated wakame seaweed threads, pickled ginger sprout, sesame seeds', '5', '2'], ['agedashi tofu', 'appetizers', 'tempura battered tofu, katsuobushi, tsuyu broth, scallions', '5', '2'], ['hiyayakko tofu', 'appetizers', 'chilled soft tofu, house shoyu, katsuobushi, ginger, scallions', '5', '2'], ['pork floss bao', 'appetizers', 'two steamed buns, minced lean slow braised niman, ranch pork belly, cucumbers, sriracha mayo', '4', '2'], ['kakuni bao', 'appetizers', 'two steamed buns, chopped fatty slow braised niman ranch pork belly, cucumbers, house bao sauce', '6', '3'], ['edamame fried gyoza (vegan)', 'appetizers', 'six crispy fried edamame and cabbage pot stickers; ponzu rayu dipping sauce', '6', '3'], ['fried gyoza', 'appetizers', 'six cripsy fried pork and vegetable pot stickers; ponzu rayu dipping sauce', '6', '6'], ['takoyaki', 'appetizers', 'six octopus-filled fried fritters, kewpie mayo, okonomi sauce, aonori, katsuobushi, nori', '6', '3'], ['rock shrimp tempura', 'appetizers', 'deep fried tempura battered rock shrimp, sriracha mayo, nisume sauce, aonori, scallions', '6', '3'], ['soft-shell crab tempura', 'appetizers', 'single deep fried soft-shell crab, tsuyu dipping broth', '6', '3'], ['ebi katsu shrimp bao', 'appetizers', 'two steamed buns, panko-crusted fried shrimp patties, yuzu-kosho mayo, aonori, scallions', '6', '3'], ['nagomi shoyu', 'entree', 'shoyu seasoned clear double stock (organic chick broth + house dashi); slow braised niman ranch pork belly, hanjuku tamago, nori, menma, scallions', '11', '5'], ['shio ramen', 'entree', 'sea salt seasoned clear double stock (organic chicken broth + house dashi); slow braised niman ranch pork belly, hanjuku tamago, kikurage, nori, scallions', '11', '5'], ['spicy miso ramen', 'entree', 'house togarashi miso blend + niman ranch pork bone stock; slow braised niman ranch pork belly, hanjuku tamago, kikurage, nori, scallions', '12', '5'], ['vegetarian spicy miso', 'entree', 'house togarashi miso blend + vegan dashi; tempura fried tofu, sweet corn, edamame, kikurage, nori, scallions; organic soy milk upon request', '12', '5'], ['miso crab ramen', 'entree', 'house miso crab blend + vegan dashi; slow braised niman ranch pork belly, crab meat, hanjuku tamago, kikurage, nori, scallions', '12', '6'], ['soft-shell miso crab ramen', 'entree', 'house miso crab blend + vegan dashi; fried whole soft-shell crab, hanjuku tamago, kikurage, nori, scallions', '14', '7'], ['tori paitan ramen', 'entree', 'rich, shoyu seasoned double stock (organic chicken broth + house dashi); slow braised niman ranch pork belly, hanuku tamago, kikurage, nori, scllaions', '13', '6'], ['tonkotsu ramen', 'entree', 'rich, shoyi seasoned niman ranch pork bone stock; slow braised niman ranch pork belly, hanjuku tamago, kikurage, nori, spring radish, scallions', '13', '6'], ['burnt garlic tonkotsu ramen', 'entree', 'rich, shoyi and burnt garlic seasoned niman ranch pork bone stock; slow braised niman ranch pork belly, hanjuku tamago, kikurage, sweet corn, nori, scallions', '14', '6'], ['vegetarian curry + king trumpet mushroom ramen', 'entree', 'house curry blend + vegan dashi; fried king trumpet mushroom, tempura fried tofu, mung bean sprouts, kikurage, nori, scallions', '13', '7'], ['truffle butter ramen', 'entree', 'rich, shoyu seasoned niman ranch prok bone stock; truffle compound butter, slow braised niman ranch pork belly, kikurage, sweet corn, nori, scallions', '14', '7'], ['green tea', 'drinks', 'green tea', '2.5', '1'], ['coke', 'drinks', 'Coca Cola soda', '2', '1'], ['black sesame ice cream', 'desserts', 'house-made black sesame ice cream, valrhona chocolate threads, complimentary hojicha', '5', '2'], ['matcha ice cream', 'desserts', 'house-made matcha ice cream, white chocolate pearls; complimentary hojicha', '5', '2'], ['mango mochi ice cream', 'desserts', 'two rice-cake bonbons filled with strawberry ice cream; complimentary hojicha', '5', '2'], ['strawberry mochi ice cream', 'desserts', 'two rice-cake bonbons filled with strawberry ice cream; complimentary hojicha', '5', '2'], ['black sesame creme brulee', 'desserts', 'house made black sesame infused creme brulee; complimentary hojicha', '6', '3']]\n"
     ]
    }
   ],
   "source": [
    "#Use a with statement and open the menu_data.csv by using its file path.\n",
    "#Use the reader function from the csv library to begin reading menu_data.csv.\n",
    "with open(menu_filepath) as menu_file:\n",
    "    # Store all of the text from the file inside a variable called \"text\"\n",
    "    # and print the contexts of the text file\n",
    "    csvreader = csv.reader(menu_file, delimiter=\",\")\n",
    "    # skip the first row: column name\n",
    "    csv_reader=next(csvreader)\n",
    "    for row in csvreader:     \n",
    "#Loop over the rest of the rows and append every row to the menu list object (the outcome will be a list of lists)\n",
    "        menu.append(row)\n",
    "\n",
    "print(menu) \n",
    "        "
   ]
  },
  {
   "cell_type": "markdown",
   "id": "1b3f5fa9-53bd-42d1-8a6e-b0f5a882946b",
   "metadata": {},
   "source": [
    "#### Set up the same process to read in `sales_data.csv`. However, instead append every row of the sales data to a new `sales` list object."
   ]
  },
  {
   "cell_type": "code",
   "execution_count": 4,
   "id": "7f31e847-a8b0-4772-a832-338cb12e77a1",
   "metadata": {},
   "outputs": [],
   "source": [
    "with open(sales_filepath) as sales_file:\n",
    "    csvreader = csv.reader(sales_file, delimiter=\",\")\n",
    "    csv_header=next(csvreader)\n",
    "    for row in csvreader:\n",
    "        sales.append(row)\n",
    "#print(sales)"
   ]
  },
  {
   "cell_type": "markdown",
   "id": "0101976a-b510-49ee-92d0-47f4c79cdd89",
   "metadata": {},
   "source": [
    "### Manipulate the Data\n",
    "\n",
    "Complete the following:\n",
    "\n",
    "* Initialize an empty `report` dictionary to hold the future aggregated per-product results. The `report` dictionary will eventually contain the following metrics:\n",
    "\n",
    "  * `01-count`: the total quantity for each ramen type\n",
    "\n",
    "  * `02-revenue`: the total revenue for each ramen type\n",
    "\n",
    "  * `03-cogs`: the total cost of goods sold for each ramen type\n",
    "\n",
    "  * `04-profit`: the total profit for each ramen type"
   ]
  },
  {
   "cell_type": "code",
   "execution_count": 5,
   "id": "a6987b75-b4cf-4947-839b-527c3ae9e480",
   "metadata": {},
   "outputs": [],
   "source": [
    "# @TODO: Initialize dict objectn [report] to hold our key-value pairs of items and metrics\n",
    "report = {}\n",
    "for Menu_Item in menu:    \n",
    "    #print(Menu_Item[0])\n",
    "\n",
    "    Price=Menu_Item[3]\n",
    "    Cost=Menu_Item[4]\n",
    "    \n",
    "# @TODO: Loop over every row in the sales list object\n",
    "for record in sales:\n",
    "    Quantity =  int(record[3])\n",
    "    Menu_Item = record[4]\n",
    "    for item_master in menu:\n",
    "        if Menu_Item != item_master[0]:\n",
    "            report[Menu_Item]={\"01-count\": 0,\"02-revenue\": 0,\"03-cogs\": 0,\"04-profit\": 0}"
   ]
  },
  {
   "cell_type": "markdown",
   "id": "7768fbe0-d514-410d-a80f-1192ea019fde",
   "metadata": {},
   "source": [
    "Create a nested loop by looping through every record in `menu`.\n",
    "\n",
    "* For each row of the `menu` data, set the following columns of the menu data to their own variables:\n",
    "\n",
    "  * Item\n",
    "  * Price\n",
    "  * Cost\n",
    "\n",
    "* If the `sales_item` in sales is equal to the `item` in `menu`, capture the `quantity` from the sales data and the `price` and `cost` from the menu data to calculate the `profit` for each item.\n",
    "\n",
    "  * Cumulatively add the values to the corresponding metrics in the report like so:\n",
    "\n",
    "    ```python\n",
    "    report[sales_item][\"01-count\"] += quantity\n",
    "    report[sales_item][\"02-revenue\"] += price * quantity\n",
    "    report[sales_item][\"03-cogs\"] += cost * quantity\n",
    "    report[sales_item][\"04-profit\"] += profit * quantity\n",
    "    ```\n",
    "\n",
    "* Else print the message \"{sales_item} does not equal {item}! NO MATCH!\"."
   ]
  },
  {
   "cell_type": "code",
   "execution_count": 6,
   "id": "ab4fa53c-2521-4cb5-bb83-c644bf3e9464",
   "metadata": {},
   "outputs": [],
   "source": [
    "for record in sales:  \n",
    "    Quantity =  int(record[3])\n",
    "    Menu_Item = record[4]\n",
    "    for item_master in menu:  \n",
    "        Price = float(item_master[3])\n",
    "        Cost = float(item_master[4])\n",
    "        Profit = float(item_master[3]) - float(item_master[4])\n",
    "        if Menu_Item == item_master[0]:\n",
    "            report[Menu_Item][\"01-count\"] += Quantity\n",
    "            report[Menu_Item][\"02-revenue\"] += Price * Quantity\n",
    "            report[Menu_Item][\"03-cogs\"] += Cost * Quantity\n",
    "            report[Menu_Item][\"04-profit\"] += Profit* Quantity\n",
    "        else:\n",
    "            print(f\"{Menu_Item} does not equal {item_master[0]}! NO MATCH!\")"
   ]
  },
  {
   "cell_type": "markdown",
   "id": "ea8b060d-3da6-463a-b85f-86b255aba161",
   "metadata": {},
   "source": [
    "Write out the contents of the `report` dictionary to a text file. The report should output each ramen type as the keys and `01-count`, `02-revenue`, `03-cogs`, and `04-profit` metrics as the values for every ramen type as shown:"
   ]
  },
  {
   "cell_type": "code",
   "execution_count": 8,
   "id": "ddb3b9c3-a966-4d71-ae24-41213f7ee391",
   "metadata": {},
   "outputs": [],
   "source": [
    "# @TODO: Write out report to a text file (won't appear on the command line output)\n",
    "# Set the output file path\n",
    "output_path = Path(\"./Sales_Report.txt\")\n",
    "# Open the output_path as a file object in \"write\" mode ('w')\n",
    "# Write a header line and write the contents of 'text' to the file\n",
    "with open(output_path, 'w') as file:\n",
    "    file.write(\"This is an output file.\\n\")\n",
    "    for text in report:\n",
    "        file.write(f\"{text} {report[text]} \\n\")"
   ]
  },
  {
   "cell_type": "code",
   "execution_count": null,
   "id": "064daa73-9e32-4020-9d51-a226cee4301d",
   "metadata": {},
   "outputs": [],
   "source": []
  },
  {
   "cell_type": "code",
   "execution_count": null,
   "id": "0d24d48b-b163-4941-ac79-af9ab5910802",
   "metadata": {},
   "outputs": [],
   "source": []
  }
 ],
 "metadata": {
  "kernelspec": {
   "display_name": "Python 3",
   "language": "python",
   "name": "python3"
  },
  "language_info": {
   "codemirror_mode": {
    "name": "ipython",
    "version": 3
   },
   "file_extension": ".py",
   "mimetype": "text/x-python",
   "name": "python",
   "nbconvert_exporter": "python",
   "pygments_lexer": "ipython3",
   "version": "3.8.8"
  }
 },
 "nbformat": 4,
 "nbformat_minor": 5
}
