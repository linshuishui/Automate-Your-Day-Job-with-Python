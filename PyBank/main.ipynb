{
 "cells": [
  {
   "cell_type": "code",
   "execution_count": 1,
   "id": "c5226e07-87e9-401e-9b1a-93969f598368",
   "metadata": {},
   "outputs": [],
   "source": [
    "# Import the NumPy library\n",
    "import numpy as np\n",
    "# Import the NumPy Financial library\n",
    "import numpy_financial as npf\n",
    "# Import from the pathlib library, the main class Path\n",
    "from pathlib import Path\n",
    "\n",
    "import pandas as pd\n",
    "\n",
    "import os\n",
    "import csv\n",
    "# Import statistics Library\n",
    "import statistics"
   ]
  },
  {
   "cell_type": "markdown",
   "id": "e7c93094-723c-41fe-960a-a940e572ca59",
   "metadata": {},
   "source": [
    "1. The total number of months included in the dataset."
   ]
  },
  {
   "cell_type": "code",
   "execution_count": 2,
   "id": "5893c3d1-b0ad-401d-a28a-98851c79d76a",
   "metadata": {},
   "outputs": [
    {
     "name": "stdout",
     "output_type": "stream",
     "text": [
      "Total Months:86 \n"
     ]
    }
   ],
   "source": [
    "# Check the current directory where the Python program is executing from\n",
    "# print(f\"Current Working Directory: {Path.cwd()}\")\n",
    "# Set the path normally (Windows)\n",
    "# Set string raw literal due to backslashes acting as escape characters for\n",
    "# the Windows \n",
    "file = r'./Resources/budget_data.csv'\n",
    "\n",
    "# Read the file without a header\n",
    "budget_data = pd.read_csv(file)\n",
    "budget_data.head()\n",
    "# use Pandas dataframe, shape[0] gives number of rowcount, shape[1] gives number of column count\n",
    "#budget_data.describe()\n",
    "count_row=budget_data.shape[0]\n",
    "#subtract the header row to get total count of month\n",
    "total_month=count_row\n",
    "print(f\"Total Months:{total_month} \")"
   ]
  },
  {
   "cell_type": "markdown",
   "id": "82417219-5d84-4487-9cf0-223c7bbb9a8a",
   "metadata": {},
   "source": [
    "2. The net total amount of Profit/Losses over the entire period."
   ]
  },
  {
   "cell_type": "code",
   "execution_count": 7,
   "id": "a5dc04ce-5b24-442d-b2a2-0dd1a914efb8",
   "metadata": {},
   "outputs": [
    {
     "name": "stdout",
     "output_type": "stream",
     "text": [
      "Total: $38382578.0\n"
     ]
    }
   ],
   "source": [
    "csvpath = os.path.join(\".\", \"Resources\", \"budget_data.csv\")\n",
    "# Create new lists to store data for heaviest and tallest pokemon\n",
    "profit_loss = []\n",
    "total = 0   \n",
    "\n",
    "# Open the csv\n",
    "with open(csvpath, newline=\"\") as csvfile:\n",
    "    csvreader = csv.reader(csvfile, delimiter=\",\")\n",
    "    # skip the first row: column name\n",
    "    csv_header = next(csvreader)\n",
    "    for row in csvreader:\n",
    "        #convert str into float data ty\n",
    "        profit_loss.append(float(row[1]))\n",
    "        total=total+float(row[1])\n",
    "print(f\"Total: ${total}\")"
   ]
  },
  {
   "cell_type": "markdown",
   "id": "e2570f52-8b1b-42ce-9608-38b9fdb3ba05",
   "metadata": {},
   "source": [
    "3. The average of the changes in Profit/Losses over the entire period."
   ]
  },
  {
   "cell_type": "code",
   "execution_count": 8,
   "id": "084c008e-1dfa-43fd-bb65-7749599c8c3d",
   "metadata": {},
   "outputs": [
    {
     "name": "stdout",
     "output_type": "stream",
     "text": [
      "Average change: $-2315.12\n"
     ]
    }
   ],
   "source": [
    "#create a list to store the budget difference between current and previous month \n",
    "profit_loss_change = []\n",
    "pointer=1\n",
    "for x in profit_loss:\n",
    "    if pointer < len(profit_loss):\n",
    "        profit_loss_change.append(profit_loss[pointer]-profit_loss[pointer-1])\n",
    "        pointer+=1\n",
    "#print(profit_loss_change)\n",
    "print(f\"Average change:\",\"${:.2f}\".format(statistics.mean(profit_loss_change)))"
   ]
  },
  {
   "cell_type": "markdown",
   "id": "28410f45-bdbc-4bef-9c62-2d8178a66d05",
   "metadata": {},
   "source": [
    "4. The greatest increase in profits (date and amount) over the entire period."
   ]
  },
  {
   "cell_type": "code",
   "execution_count": 10,
   "id": "62528e8e-8d1c-4545-8872-054095f69982",
   "metadata": {},
   "outputs": [
    {
     "name": "stdout",
     "output_type": "stream",
     "text": [
      "Greatest Increase in Profits:Feb-2012 ($1926159.0)\n"
     ]
    }
   ],
   "source": [
    "#Prepend the budget difference for the first month as '0'\n",
    "profit_loss_change.insert(0,0)\n",
    "#Assign the budget different from the list to the dataframe\n",
    "budget_data[\"Changes\"] =profit_loss_change\n",
    "budget_data.head()\n",
    "\n",
    "# Set the index as the 'Date' column\n",
    "greatest_increase = max(profit_loss_change)\n",
    "budget_data.set_index(budget_data['Changes'], inplace=True)\n",
    "                                  \n",
    "budget_data.head()\n",
    "#use loc as dictionary to check dataframe to find month\n",
    "greatest_month=budget_data.loc[greatest_increase][\"Date\"]\n",
    "print(f\"Greatest Increase in Profits:{greatest_month} (${greatest_increase})\" )"
   ]
  },
  {
   "cell_type": "markdown",
   "id": "9579c24e-997c-4023-9606-c3be6939a563",
   "metadata": {},
   "source": [
    "5. The greatest decrease in losses (date and amount) over the entire period.\n"
   ]
  },
  {
   "cell_type": "code",
   "execution_count": 9,
   "id": "e7c386b1-46bd-4c1b-9f81-718d47b5686a",
   "metadata": {},
   "outputs": [
    {
     "name": "stdout",
     "output_type": "stream",
     "text": [
      "Greatest Decrease in Profits::Sep-2013 ($-2196167.0)\n"
     ]
    }
   ],
   "source": [
    "greatest_decrease =min(profit_loss_change)\n",
    "#use loc as dictionary to check dataframeto find month\n",
    "worst_month=budget_data.loc[greatest_decrease][\"Date\"]\n",
    "print(f\"Greatest Decrease in Profits::{worst_month} (${greatest_decrease})\" )"
   ]
  },
  {
   "cell_type": "code",
   "execution_count": null,
   "id": "01161cc9-ee33-4f9a-8a43-d1225b984592",
   "metadata": {},
   "outputs": [],
   "source": []
  }
 ],
 "metadata": {
  "kernelspec": {
   "display_name": "Python 3",
   "language": "python",
   "name": "python3"
  },
  "language_info": {
   "codemirror_mode": {
    "name": "ipython",
    "version": 3
   },
   "file_extension": ".py",
   "mimetype": "text/x-python",
   "name": "python",
   "nbconvert_exporter": "python",
   "pygments_lexer": "ipython3",
   "version": "3.8.8"
  }
 },
 "nbformat": 4,
 "nbformat_minor": 5
}
